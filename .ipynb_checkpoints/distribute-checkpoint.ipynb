{
 "cells": [
  {
   "cell_type": "code",
   "execution_count": null,
   "id": "550d669b-a170-4073-8327-71f4cc08cafc",
   "metadata": {},
   "outputs": [],
   "source": [
    "import re\n",
    "\n",
    "def distribute(user_links):\n",
    "    # Clean and categorize the links\n",
    "    pattern = r\"^[\\'\\\"]+|[\\'\\\"]+$\"\n",
    "    cleaned_links = [re.sub(pattern, '', link.strip()) for link in user_links]\n",
    "\n",
    "    # Separate links by type\n",
    "    tz_links = [link for link in cleaned_links if 'topzone' in link]\n",
    "    mw_links = [link for link in cleaned_links if 'thegioididong' in link]\n",
    "    fpt_links = [link for link in cleaned_links if 'fptshop' in link]\n",
    "\n",
    "    print(tz_links,'\\n', mw_links, '\\n', fpt_links)\n",
    "\n",
    "    # Run the appropriate functions\n",
    "    if tz_links:\n",
    "        TZ().tz(tz_links, tz_links[0])\n",
    "    if mw_links:\n",
    "        MW().mw(mw_links, mw_links[0])\n",
    "    if fpt_links:\n",
    "        FPT().fpt(fpt_links, fpt_links[0])\n",
    "\n",
    "\n"
   ]
  }
 ],
 "metadata": {
  "kernelspec": {
   "display_name": "Python 3 (ipykernel)",
   "language": "python",
   "name": "python3"
  },
  "language_info": {
   "codemirror_mode": {
    "name": "ipython",
    "version": 3
   },
   "file_extension": ".py",
   "mimetype": "text/x-python",
   "name": "python",
   "nbconvert_exporter": "python",
   "pygments_lexer": "ipython3",
   "version": "3.9.16"
  }
 },
 "nbformat": 4,
 "nbformat_minor": 5
}
