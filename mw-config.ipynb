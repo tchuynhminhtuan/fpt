{
 "cells": [
  {
   "cell_type": "code",
   "execution_count": null,
   "id": "a8f6a402-a965-4cc8-ac13-4a44370213a3",
   "metadata": {},
   "outputs": [],
   "source": [
    "# This is to import Chrome and ChromeDriver to work\n",
    "\n",
    "# Install Chromium\n",
    "!apt update\n",
    "!apt install -y wget unzip\n",
    "!wget https://dl.google.com/linux/direct/google-chrome-stable_current_amd64.deb\n",
    "!dpkg -i google-chrome-stable_current_amd64.deb\n",
    "!apt -f install -y  # Install dependencies\n",
    "\n",
    "# Install Chromedriver\n",
    "!wget https://chromedriver.storage.googleapis.com/114.0.5735.90/chromedriver_linux64.zip\n",
    "!unzip chromedriver_linux64.zip\n",
    "!mv chromedriver /usr/local/bin/\n",
    "!chmod +x /usr/local/bin/chromedriver\n",
    "\n",
    "# Check the versions\n",
    "!google-chrome --version\n",
    "!chromedriver --version\n"
   ]
  }
 ],
 "metadata": {
  "kernelspec": {
   "display_name": "Python 3 (ipykernel)",
   "language": "python",
   "name": "python3"
  },
  "language_info": {
   "codemirror_mode": {
    "name": "ipython",
    "version": 3
   },
   "file_extension": ".py",
   "mimetype": "text/x-python",
   "name": "python",
   "nbconvert_exporter": "python",
   "pygments_lexer": "ipython3",
   "version": "3.9.16"
  }
 },
 "nbformat": 4,
 "nbformat_minor": 5
}
