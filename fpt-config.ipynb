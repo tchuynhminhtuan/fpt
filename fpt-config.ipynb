{
 "cells": [
  {
   "cell_type": "code",
   "execution_count": null,
   "id": "7b24cb2b-13c4-4371-96b0-2a074995c060",
   "metadata": {},
   "outputs": [],
   "source": [
    "# Install necessary packages\n",
    "!apt update\n",
    "!apt install -y wget unzip xvfb\n",
    "\n",
    "# Install Google Chrome\n",
    "!wget https://dl.google.com/linux/direct/google-chrome-stable_current_amd64.deb\n",
    "!dpkg -i google-chrome-stable_current_amd64.deb\n",
    "!apt -f install -y  # Install dependencies\n",
    "\n",
    "# Install Chromedriver using autoinstaller\n",
    "!pip install chromedriver-autoinstaller pyvirtualdisplay selenium\n",
    "\n",
    "# Automatically install the appropriate ChromeDriver version\n",
    "chromedriver_autoinstaller.install()\n",
    "\n",
    "# Verify installations\n",
    "!google-chrome --version\n",
    "!chromedriver --version"
   ]
  }
 ],
 "metadata": {
  "kernelspec": {
   "display_name": "Python 3 (ipykernel)",
   "language": "python",
   "name": "python3"
  },
  "language_info": {
   "codemirror_mode": {
    "name": "ipython",
    "version": 3
   },
   "file_extension": ".py",
   "mimetype": "text/x-python",
   "name": "python",
   "nbconvert_exporter": "python",
   "pygments_lexer": "ipython3",
   "version": "3.9.16"
  }
 },
 "nbformat": 4,
 "nbformat_minor": 5
}
